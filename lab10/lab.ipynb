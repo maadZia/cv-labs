{
 "cells": [
  {
   "cell_type": "code",
   "execution_count": 5,
   "id": "0aed5fbb",
   "metadata": {},
   "outputs": [
    {
     "data": {
      "text/plain": [
       "-1"
      ]
     },
     "execution_count": 5,
     "metadata": {},
     "output_type": "execute_result"
    }
   ],
   "source": [
    "import cv2\n",
    "import numpy as np\n",
    "import matplotlib.pyplot as plt\n",
    "\n",
    "cap = cv2.VideoCapture('vid1_IR.avi')\n",
    "while(cap.isOpened()):\n",
    "    ret, frame = cap.read()\n",
    "    G = cv2.cvtColor(frame, cv2.COLOR_BGR2GRAY)\n",
    "    cv2.imshow('IR', G)\n",
    "    if cv2.waitKey(1) & 0xFF == ord ('q'):\n",
    "        break\n",
    "cap.release()\n",
    "cv2.destroyAllWindows()\n",
    "cv2.waitKey(1)"
   ]
  },
  {
   "cell_type": "code",
   "execution_count": 12,
   "id": "2b18ecf1",
   "metadata": {},
   "outputs": [
    {
     "data": {
      "text/plain": [
       "-1"
      ]
     },
     "execution_count": 12,
     "metadata": {},
     "output_type": "execute_result"
    }
   ],
   "source": [
    "import cv2\n",
    "import numpy as np\n",
    "\n",
    "cap = cv2.VideoCapture('vid1_IR.avi')\n",
    "\n",
    "while cap.isOpened():\n",
    "    ret, frame = cap.read()\n",
    "    if not ret:\n",
    "        break\n",
    "\n",
    "    G = cv2.cvtColor(frame, cv2.COLOR_BGR2GRAY)\n",
    "\n",
    "    # binaryzacja\n",
    "    _, binary = cv2.threshold(G, 35, 255, cv2.THRESH_BINARY)\n",
    "\n",
    "    # filtracja\n",
    "    binary = cv2.medianBlur(binary, 5)\n",
    "    kernel = cv2.getStructuringElement(cv2.MORPH_RECT, (5, 5))\n",
    "    binary = cv2.morphologyEx(binary, cv2.MORPH_CLOSE, kernel)\n",
    "\n",
    "    # indeksacja\n",
    "    num_labels, labels, stats, centroids = cv2.connectedComponentsWithStats(binary, connectivity=8)\n",
    "\n",
    "    output = frame.copy()\n",
    "    boxes = []\n",
    "\n",
    "    # parametry ograniczające\n",
    "    min_area = 1500\n",
    "    min_aspect_ratio = 1.5\n",
    "    max_width = 150  # ograniczenie szerokości sylwetki żeby prostokąty obok sie nie łączyły\n",
    "\n",
    "    for i in range(1, num_labels):  # pomijamy tło\n",
    "        x, y, w, h, area = stats[i]\n",
    "\n",
    "        if area < min_area:\n",
    "            continue\n",
    "\n",
    "        aspect_ratio = h / float(w)\n",
    "        if aspect_ratio < min_aspect_ratio or w > max_width:\n",
    "            continue\n",
    "\n",
    "        boxes.append([x, y, x + w, y + h])  # [x1, y1, x2, y2]\n",
    "    # sortowanie po gorze prostokatow\n",
    "    boxes.sort(key=lambda b: b[1])\n",
    "\n",
    "    merged = []\n",
    "\n",
    "    for i in range(len(boxes)):\n",
    "        x1, y1, x2, y2 = boxes[i]\n",
    "        merged_box = [x1, y1, x2, y2]  # aktualny prostokąt do potencjalnego rozszerzenia\n",
    "\n",
    "        for j in range(i + 1, len(boxes)):\n",
    "            x1b, y1b, x2b, y2b = boxes[j]\n",
    "\n",
    "            vertical_gap = y1b - merged_box[3]  # różnica pionowa między kolejnym prostokątem a dolną krawędzią bieżącego\n",
    "\n",
    "            # czy prostokąty są blisko w pionie\n",
    "            if 0 <= vertical_gap <= 20:\n",
    "                # overlap między prostokątami\n",
    "                overlap_w = min(merged_box[2], x2b) - max(merged_box[0], x1b)\n",
    "\n",
    "                if overlap_w > 0:\n",
    "                    min_width = min(merged_box[2] - merged_box[0], x2b - x1b)\n",
    "                    # stosunek overlapu do minimalnej szerokości\n",
    "                    overlap_ratio = overlap_w / float(min_width)\n",
    "\n",
    "                    # overlap wystarczająco duży\n",
    "                    if overlap_ratio >= 0.6:\n",
    "                        # rozszerzamy prostokat\n",
    "                        merged_box[0] = min(merged_box[0], x1b)  # lewy \n",
    "                        merged_box[1] = min(merged_box[1], y1b)  # gorny\n",
    "                        merged_box[2] = max(merged_box[2], x2b)  # prawy\n",
    "                        merged_box[3] = max(merged_box[3], y2b)  # dolny\n",
    "\n",
    "        merged.append(merged_box)\n",
    "\n",
    "    for box in merged:\n",
    "        x1, y1, x2, y2 = box\n",
    "        cv2.rectangle(output, (x1, y1), (x2, y2), (255, 0, 0), 2)\n",
    "\n",
    "    cv2.imshow('IR', output)\n",
    "    if cv2.waitKey(10) & 0xFF == ord('q'):\n",
    "        break\n",
    "\n",
    "cap.release()\n",
    "cv2.destroyAllWindows()\n",
    "cv2.waitKey(1)\n"
   ]
  }
 ],
 "metadata": {
  "kernelspec": {
   "display_name": "Python 3",
   "language": "python",
   "name": "python3"
  },
  "language_info": {
   "codemirror_mode": {
    "name": "ipython",
    "version": 3
   },
   "file_extension": ".py",
   "mimetype": "text/x-python",
   "name": "python",
   "nbconvert_exporter": "python",
   "pygments_lexer": "ipython3",
   "version": "3.9.12"
  }
 },
 "nbformat": 4,
 "nbformat_minor": 5
}
